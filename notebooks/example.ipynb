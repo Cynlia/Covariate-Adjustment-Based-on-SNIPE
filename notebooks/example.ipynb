{
 "cells": [
  {
   "cell_type": "code",
   "execution_count": 1,
   "id": "66a3d784",
   "metadata": {},
   "outputs": [],
   "source": [
    "# Import Libraries\n",
    "import numpy as np\n",
    "from IPython.display import display, Math\n",
    "import sys\n",
    "sys.path.append('../src/Code_for_Experiments')\n",
    "import nci_linear_setup as ncls\n",
    "import nci_polynomial_setup as ncps"
   ]
  },
  {
   "cell_type": "markdown",
   "id": "f55d1ad4",
   "metadata": {},
   "source": [
    "## Example 1: Disjoint Pair Network with Fixed Covariates\n",
    "\n",
    "We consider a small graph made up of disjoint connected pairs, and use fixed covariates and outcomes. \n",
    "The $\\boldsymbol{\\theta}_{\\text{Reg}}$ coefficient is directly computed using closed-form formula."
   ]
  },
  {
   "cell_type": "code",
   "execution_count": 2,
   "id": "0f738c51",
   "metadata": {},
   "outputs": [
    {
     "data": {
      "text/latex": [
       "$\\displaystyle {\\boldsymbol{\\theta}}_{\\text{Reg}} = 0.5407$"
      ],
      "text/plain": [
       "<IPython.core.display.Math object>"
      ]
     },
     "metadata": {},
     "output_type": "display_data"
    }
   ],
   "source": [
    "#Parameters and Initialization for Example 1\n",
    "n, d, p = 4, 1, 0.5\n",
    "A = np.eye(n)\n",
    "for i in range(0, n, 2):\n",
    "    A[i, i+1] = A[i+1, i] = 1\n",
    "\n",
    "X = np.array([[-1], [0.5], [-5], [5.5]])\n",
    "X = X - np.mean(X, axis=0)\n",
    "C_self = X + np.array([[1.95], [1.4], [2.3], [-2.4]])\n",
    "\n",
    "C_cross = np.ones((n, n))\n",
    "\n",
    "theta_Reg = np.linalg.inv(X.T @ X) @ (X.T @ np.array(C_self+1))\n",
    "value = theta_Reg.item()\n",
    "display(Math(fr'{{\\boldsymbol{{\\theta}}}}_{{\\text{{Reg}}}} = {value:.4f}'))"
   ]
  },
  {
   "cell_type": "code",
   "execution_count": 3,
   "id": "fc1e98b5",
   "metadata": {},
   "outputs": [
    {
     "name": "stdout",
     "output_type": "stream",
     "text": [
      "Total variance impact (Example 1): [-0.73545853]\n"
     ]
    }
   ],
   "source": [
    "# Variance Impact Calculation for Example 1\n",
    "diff_1 = sum([1 / (p * (1 - p)) * np.sum(A[i, :]) * np.dot(theta_Reg, X[i]) ** 2 for i in range(n)])\n",
    "\n",
    "diff_2 = 0.0\n",
    "for i in range(n):\n",
    "    diff_2_elem = []\n",
    "    for k in range(n):\n",
    "        Nik = [r for r in range(n) if A[i, r] == 1 and A[k, r] == 1 and i != k]\n",
    "        ret = np.sum([2 * (1 - p) * C_cross[i, j] + 2 * C_self[i] - np.dot(theta_Reg, X[i]) for j in Nik])\n",
    "        diff_2_elem.append(1 / (p * (1 - p)) * np.dot(theta_Reg, X[k]) * ret)\n",
    "    diff_2 += sum(diff_2_elem)\n",
    "\n",
    "total_diff = (diff_1 + diff_2) / n**2\n",
    "print(\"Total variance impact (Example 1):\", total_diff)"
   ]
  },
  {
   "cell_type": "markdown",
   "id": "49a989bb",
   "metadata": {},
   "source": [
    "## Example 2: Erdos-Rényi Network with Random Covariates\n",
    "\n",
    "We generate a random network with edge probability 0.05 and use standard normal covariates. \n",
    "The outcome and weights are constructed accordingly, and we impute the estimator of $\\boldsymbol{\\theta}_{\\text{Reg}}$, $\\hat{\\boldsymbol{\\theta}}_{\\text{Reg}}$, into the formula."
   ]
  },
  {
   "cell_type": "code",
   "execution_count": 4,
   "id": "f6b687b8",
   "metadata": {},
   "outputs": [],
   "source": [
    "# Parameters and Initialization for Example 2\n",
    "n, d, p = 100, 1, 0.5\n",
    "A = np.eye(n)\n",
    "z = np.random.binomial(n=1, p=p, size=(n,))\n",
    "p_graph = 0.5\n",
    "np.random.seed(14)\n",
    "\n",
    "# Erdos-Renyi graph\n",
    "for i in range(n):\n",
    "    for j in range(i):\n",
    "        if np.random.random() < p_graph:\n",
    "            A[i][j] = A[j][i] = 1\n",
    "\n",
    "# Random covariates\n",
    "X = np.random.randn(n, d)\n",
    "X = X - np.mean(X, axis=0)\n",
    "C_self = np.exp(X.reshape(-1)) + np.random.randn(n)\n",
    "C_cross = np.ones((n, n))"
   ]
  },
  {
   "cell_type": "code",
   "execution_count": 5,
   "id": "119bcc8c",
   "metadata": {},
   "outputs": [
    {
     "data": {
      "text/latex": [
       "$\\displaystyle \\hat{\\boldsymbol{\\theta}}_{\\text{Reg}} = 1.4124$"
      ],
      "text/plain": [
       "<IPython.core.display.Math object>"
      ]
     },
     "metadata": {},
     "output_type": "display_data"
    }
   ],
   "source": [
    "# Outcomes and Weights for Example 2\n",
    "C_vec = np.zeros(n)\n",
    "Y = np.zeros(n)\n",
    "W = np.zeros(n)\n",
    "\n",
    "for i in range(n):\n",
    "    C_vec[i] = C_self[i] + np.sum((1 - p) * C_cross[i] * A[i])\n",
    "    Y[i] = C_self[i] + np.sum(C_cross[i] * A[i] * z[i])\n",
    "    W[i] = np.sum(A[i] * (z[i] - p)) ** 2 / (1 - p) ** 2 / p ** 2\n",
    "\n",
    "W = np.diag(W)\n",
    "theta_Reg_hat = np.linalg.inv(X.T @ W @ X) @ (X.T @ W @ Y)\n",
    "value = theta_Reg_hat.item()\n",
    "display(Math(fr'\\hat{{\\boldsymbol{{\\theta}}}}_{{\\text{{Reg}}}} = {value:.4f}'))"
   ]
  },
  {
   "cell_type": "code",
   "execution_count": 6,
   "id": "17af0306",
   "metadata": {},
   "outputs": [
    {
     "name": "stdout",
     "output_type": "stream",
     "text": [
      "Total variance impact (Example 1): -4.14343253593864\n"
     ]
    }
   ],
   "source": [
    "# Variance Impact Calculation for Example 2\n",
    "diff_1 = sum([1 / (p * (1 - p)) * np.sum(A[i, :]) * np.dot(theta_Reg_hat, X[i]) ** 2 for i in range(n)])\n",
    "\n",
    "diff_2 = 0.0\n",
    "for i in range(n):\n",
    "    diff_2_elem = []\n",
    "    for k in range(n):\n",
    "        Nik = [r for r in range(n) if A[i, r] == 1 and A[k, r] == 1 and i != k]\n",
    "        ret = np.sum([2 * (1 - p) * C_cross[i, j] + 2 * C_self[i] - np.dot(theta_Reg_hat, X[i]) for j in Nik])\n",
    "        diff_2_elem.append(1 / (p * (1 - p)) * np.dot(theta_Reg_hat, X[k]) * ret)\n",
    "    diff_2 += sum(diff_2_elem)\n",
    "\n",
    "total_diff = (diff_1 + diff_2) / n**2\n",
    "print(\"Total variance impact (Example 1):\", total_diff)"
   ]
  }
 ],
 "metadata": {
  "kernelspec": {
   "display_name": "base",
   "language": "python",
   "name": "python3"
  },
  "language_info": {
   "codemirror_mode": {
    "name": "ipython",
    "version": 3
   },
   "file_extension": ".py",
   "mimetype": "text/x-python",
   "name": "python",
   "nbconvert_exporter": "python",
   "pygments_lexer": "ipython3",
   "version": "3.11.8"
  }
 },
 "nbformat": 4,
 "nbformat_minor": 5
}
