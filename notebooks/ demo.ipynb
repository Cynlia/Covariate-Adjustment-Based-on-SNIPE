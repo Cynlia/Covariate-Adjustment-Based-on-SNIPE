{
 "cells": [
  {
   "cell_type": "markdown",
   "metadata": {},
   "source": [
    "# Demonstration of Our Adjusted TTE Estimator\n",
    "\n",
    "This notebook demonstrates how to use Regression-based and VIM_based ADJ-SNIPE."
   ]
  },
  {
   "cell_type": "code",
   "execution_count": null,
   "metadata": {},
   "outputs": [],
   "source": [
    "# 1. Import Libraries\n",
    "import numpy as np\n",
    "import sys\n",
    "sys.path.append('../src/Code_for_Experiments')\n",
    "import nci_linear_setup as ncls\n",
    "import nci_polynomial_setup as ncps"
   ]
  },
  {
   "cell_type": "markdown",
   "metadata": {},
   "source": [
    "## 2. Generate or Load Example Data\n",
    "We either simulate data or load a demo dataset. Below is a simple simulation example."
   ]
  },
  {
   "cell_type": "code",
   "execution_count": 2,
   "metadata": {},
   "outputs": [
    {
     "name": "stderr",
     "output_type": "stream",
     "text": [
      "/opt/anaconda3/lib/python3.11/site-packages/scipy/sparse/_index.py:143: SparseEfficiencyWarning: Changing the sparsity structure of a csr_matrix is expensive. lil_matrix is more efficient.\n",
      "  self._set_arrayXarray(i, j, x)\n"
     ]
    },
    {
     "data": {
      "text/plain": [
       "{'y': array([16.39591004,  5.86053216, 15.54424196, ...,  9.2889464 ,\n",
       "         0.89849312,  3.67697727]),\n",
       " 'z': array([1, 0, 0, ..., 0, 0, 1]),\n",
       " 'A': <5000x5000 sparse array of type '<class 'numpy.int64'>'\n",
       " \twith 55262 stored elements in Compressed Sparse Row format>,\n",
       " 'X': array([[ 0.49757021, -0.14367322,  0.64596036],\n",
       "        [ 1.52388592, -0.23956229, -0.23586514],\n",
       "        [ 1.58006887,  0.76202582, -0.47120257],\n",
       "        ...,\n",
       "        [ 0.91424715,  0.2068907 ,  0.23885258],\n",
       "        [-0.30306659, -0.91506094,  1.2354228 ],\n",
       "        [ 1.31306405, -0.88951805, -0.15551334]]),\n",
       " 'p': 0.2}"
      ]
     },
     "execution_count": 2,
     "metadata": {},
     "output_type": "execute_result"
    }
   ],
   "source": [
    "np.random.seed(42)\n",
    "n = 5000\n",
    "covariate_dim = 3\n",
    "p = 0.2\n",
    "\n",
    "# Simulate covariates\n",
    "X_uncentered = np.random.randn(n, covariate_dim) \n",
    "X_c_coeff = np.ones((covariate_dim, n))+np.random.randn(covariate_dim, n)\n",
    "X = X_uncentered - np.mean(X_uncentered, axis=0)\n",
    "\n",
    "# Simulate adjacency matrix\n",
    "A = ncls.erdos_renyi(n,10/n)\n",
    "\n",
    "# Simulate treatment assignments\n",
    "z = ncls.bernoulli(n,p)\n",
    "\n",
    "# Simulate outcomes\n",
    "b = 5*np.ones((covariate_dim,))\n",
    "rand_wts = np.random.rand(n,3)\n",
    "alpha = rand_wts[:,0].flatten()\n",
    "C = ncls.simpleXWeights_old(A, X, X_c_coeff, 10, 5, rand_wts[:,1].flatten(), rand_wts[:,2].flatten())\n",
    "y = ncls.linear_cov_adj(b,C,alpha,z,X)\n",
    "\n",
    "# Input data\n",
    "df = {\n",
    "    'y': y,\n",
    "    'z': z,\n",
    "    'A': A,\n",
    "    'X': X,\n",
    "    'p': p\n",
    "}\n",
    "df"
   ]
  },
  {
   "cell_type": "markdown",
   "metadata": {},
   "source": [
    "## 3. Apply the Estimator\n",
    "We now apply two estimators on the dataset to estimate the total treatment effect."
   ]
  },
  {
   "cell_type": "code",
   "execution_count": null,
   "metadata": {},
   "outputs": [
    {
     "name": "stdout",
     "output_type": "stream",
     "text": [
      "Degree One Reg Estimated TTE: 7.492\n",
      "Degree One VIM Estimated TTE: 7.324\n"
     ]
    }
   ],
   "source": [
    "# if degree = 1 & equal treatment probability\n",
    "n = df['X'].shape[0]\n",
    "zz = df['z']/df['p'] - (1-df['z'])/(1-df['p'])\n",
    "w = df['A'].dot(zz)\n",
    "\n",
    "\n",
    "# Regression based\n",
    "est_Reg = ncps.Reg_beta(n, df['y'], df['X'], w)\n",
    "print(f\"Degree One Reg Estimated TTE: {est_Reg:.3f}\")\n",
    "\n",
    "# VIM based\n",
    "treatment_vec = df['p'] * np.ones((n,))\n",
    "c_est_list = [ncls.get_c_est(df['A'], df['z'], df['y'], treatment_vec, i) for i in range(n)]\n",
    "component_B = ncls.compute_component_B_deg1(df['X'], df['A'], df['p'])\n",
    "component_D = ncls.compute_component_D_deg1(df['X'], df['A'], df['p'], c_est_list)\n",
    "components = (component_B, component_D)\n",
    "est_VIM = ncls.VIM_beta(n, df['y'], df['X'], w, components)\n",
    "print(f\"Degree One VIM Estimated TTE: {est_VIM:.3f}\")"
   ]
  },
  {
   "cell_type": "code",
   "execution_count": null,
   "metadata": {},
   "outputs": [
    {
     "name": "stdout",
     "output_type": "stream",
     "text": [
      "Degree Two Reg Estimated TTE: 11.483\n"
     ]
    }
   ],
   "source": [
    "# if degree = 2 & equal treatment probability\n",
    "n = df['X'].shape[0]\n",
    "w = ncps.SNIPE_weights(n, df['p'], df['A'], df['z'], 2)\n",
    "\n",
    "# Regression based\n",
    "est_Reg = ncps.Reg_beta(n, df['y'], df['X'], w)\n",
    "print(f\"Degree Two Reg Estimated TTE: {est_Reg:.3f}\")\n",
    "\n",
    "# VIM based\n",
    "treatment_vec = df['p'] * np.ones((n,))\n",
    "c_est_list = [ncps.get_c_est_deg2(df['A'], df['z'], df['y'], treatment_vec, df['p'], i) for i in range(n)]\n",
    "component_B = ncps.compute_component_B_deg2(df['X'], df['A'], df['p'])\n",
    "component_D = ncps.compute_component_D_deg2(df['X'], df['A'], df['p'], c_est_list)\n",
    "components = (component_B, component_D)\n",
    "est_VIM = ncls.VIM_beta(n, df['y'], df['X'], w, components)\n",
    "print(f\"Degree Two VIM Estimated TTE: {est_VIM:.3f}\")"
   ]
  }
 ],
 "metadata": {
  "kernelspec": {
   "display_name": "base",
   "language": "python",
   "name": "python3"
  },
  "language_info": {
   "codemirror_mode": {
    "name": "ipython",
    "version": 3
   },
   "file_extension": ".py",
   "mimetype": "text/x-python",
   "name": "python",
   "nbconvert_exporter": "python",
   "pygments_lexer": "ipython3",
   "version": "3.11.8"
  }
 },
 "nbformat": 4,
 "nbformat_minor": 2
}
